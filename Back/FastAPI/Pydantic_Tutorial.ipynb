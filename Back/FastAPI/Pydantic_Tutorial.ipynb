{
 "cells": [
  {
   "cell_type": "markdown",
   "id": "f1a11215",
   "metadata": {},
   "source": [
    "## Pydantic Tutorial"
   ]
  },
  {
   "cell_type": "markdown",
   "id": "ac42e274",
   "metadata": {},
   "source": [
    "[Source](https://docs.pydantic.dev/latest/usage/models/)\n",
    "\n",
    "* The primary means of defining objects in pydantic is via models (models are simply classes which inherit from BaseModel).\n",
    "\n",
    "* You can think of models as similar to types in strictly typed languages, or as the requirements of a single endpoint in an API.\n",
    "\n",
    "* Untrusted data can be passed to a model, and after parsing and validation pydantic guarantees that the fields of the resultant model instance will conform to the field types defined on the model."
   ]
  },
  {
   "cell_type": "markdown",
   "id": "35962458",
   "metadata": {},
   "source": [
    "### Basic model usage\n",
    "\n",
    "* `id` is required.\n",
    "* `name` is not required value but a default value."
   ]
  },
  {
   "cell_type": "code",
   "execution_count": 1,
   "id": "0e3e28ce",
   "metadata": {},
   "outputs": [],
   "source": [
    "from pydantic import BaseModel\n",
    "\n",
    "class User(BaseModel):\n",
    "    id: int\n",
    "    name = 'Peter Cha'"
   ]
  },
  {
   "cell_type": "code",
   "execution_count": 2,
   "id": "7bfcd20d",
   "metadata": {},
   "outputs": [],
   "source": [
    "user = User(id='123') # it works! Auto Data Conversion/Casting.\n",
    "# cause the validation error\n",
    "# user_x = User(id = '123.45') "
   ]
  },
  {
   "cell_type": "code",
   "execution_count": 3,
   "id": "4f78000c",
   "metadata": {},
   "outputs": [],
   "source": [
    "assert user.id == 123\n",
    "assert isinstance(user.id, int)\n",
    "assert user.name == 'Peter Cha'\n",
    "assert user.__fields_set__ == {'id'}\n",
    "assert user.dict() == dict(user) == {'id': 123, 'name': 'Peter Cha'}"
   ]
  },
  {
   "cell_type": "code",
   "execution_count": 4,
   "id": "fa2c3a9d",
   "metadata": {},
   "outputs": [
    {
     "data": {
      "text/plain": [
       "{'id': 123, 'name': 'Peter Cha'}"
      ]
     },
     "execution_count": 4,
     "metadata": {},
     "output_type": "execute_result"
    }
   ],
   "source": [
    "user.dict()"
   ]
  },
  {
   "cell_type": "code",
   "execution_count": 5,
   "id": "159bcbc2",
   "metadata": {},
   "outputs": [
    {
     "data": {
      "text/plain": [
       "321"
      ]
     },
     "execution_count": 5,
     "metadata": {},
     "output_type": "execute_result"
    }
   ],
   "source": [
    "# This model is mutable.\n",
    "user.id = 321\n",
    "user.id"
   ]
  },
  {
   "cell_type": "markdown",
   "id": "779510ae",
   "metadata": {},
   "source": [
    "### Model properties\n",
    "\n",
    "* The example above only shows the tip of the iceberg of what models can do. Models possess the following methods and attributes:\n",
    "\n",
    "\n",
    "`json()`\n",
    "* returns a JSON string representation dict(); cf. exporting models\n",
    "\n",
    "`construct()`\n",
    "* a class method for creating models without running validation; cf. Creating models without validation\n",
    "\n",
    "`__fields_set__`\n",
    "* Set of names of fields which were set when the model instance was initialised\n",
    "\n",
    "`__fields__`\n",
    "* a dictionary of the model's fields\n",
    "\n",
    "`__config__`\n",
    "* the configuration class for the model, cf. model config"
   ]
  },
  {
   "cell_type": "code",
   "execution_count": 6,
   "id": "9a1f4fbb",
   "metadata": {},
   "outputs": [
    {
     "data": {
      "text/plain": [
       "'{\"id\": 321, \"name\": \"Peter Cha\"}'"
      ]
     },
     "execution_count": 6,
     "metadata": {},
     "output_type": "execute_result"
    }
   ],
   "source": [
    "user.json()"
   ]
  },
  {
   "cell_type": "code",
   "execution_count": 7,
   "id": "d1d3ad10",
   "metadata": {},
   "outputs": [
    {
     "data": {
      "text/plain": [
       "User(id='123.45', name='Peter Cha')"
      ]
     },
     "execution_count": 7,
     "metadata": {},
     "output_type": "execute_result"
    }
   ],
   "source": [
    "user.construct(id = '123.45')"
   ]
  },
  {
   "cell_type": "code",
   "execution_count": 8,
   "id": "0e30d206",
   "metadata": {},
   "outputs": [
    {
     "data": {
      "text/plain": [
       "{'id'}"
      ]
     },
     "execution_count": 8,
     "metadata": {},
     "output_type": "execute_result"
    }
   ],
   "source": [
    "user.__fields_set__"
   ]
  },
  {
   "cell_type": "code",
   "execution_count": 9,
   "id": "342e2004",
   "metadata": {},
   "outputs": [
    {
     "data": {
      "text/plain": [
       "{'id': ModelField(name='id', type=int, required=True),\n",
       " 'name': ModelField(name='name', type=str, required=False, default='Peter Cha')}"
      ]
     },
     "execution_count": 9,
     "metadata": {},
     "output_type": "execute_result"
    }
   ],
   "source": [
    "user.__fields__"
   ]
  },
  {
   "cell_type": "code",
   "execution_count": 10,
   "id": "bde0eca8",
   "metadata": {},
   "outputs": [
    {
     "data": {
      "text/plain": [
       "__main__.Config"
      ]
     },
     "execution_count": 10,
     "metadata": {},
     "output_type": "execute_result"
    }
   ],
   "source": [
    "user.__config__"
   ]
  },
  {
   "cell_type": "code",
   "execution_count": 11,
   "id": "735ad5b6",
   "metadata": {},
   "outputs": [
    {
     "data": {
      "text/plain": [
       "{'title': 'User',\n",
       " 'type': 'object',\n",
       " 'properties': {'id': {'title': 'Id', 'type': 'integer'},\n",
       "  'name': {'title': 'Name', 'default': 'Peter Cha', 'type': 'string'}},\n",
       " 'required': ['id']}"
      ]
     },
     "execution_count": 11,
     "metadata": {},
     "output_type": "execute_result"
    }
   ],
   "source": [
    "user.schema()"
   ]
  },
  {
   "cell_type": "markdown",
   "id": "7091e80f",
   "metadata": {},
   "source": [
    "### Recursive Models\n",
    "* More complex hierarchical data structures can be defined using models themselves as types in annotations.\n",
    "\n"
   ]
  },
  {
   "cell_type": "code",
   "execution_count": 12,
   "id": "3079db1c",
   "metadata": {},
   "outputs": [],
   "source": [
    "from typing import Optional\n",
    "from pydantic import BaseModel"
   ]
  },
  {
   "cell_type": "code",
   "execution_count": 16,
   "id": "89399808",
   "metadata": {},
   "outputs": [
    {
     "data": {
      "text/plain": [
       "Spam(foo=Foo(count=4, size=None), bars=[Bar(apple='x1', banana='y'), Bar(apple='x2', banana='y')])"
      ]
     },
     "execution_count": 16,
     "metadata": {},
     "output_type": "execute_result"
    }
   ],
   "source": [
    "class Foo(BaseModel):\n",
    "    count: int\n",
    "    size: Optional[float] = None\n",
    "        \n",
    "class Bar(BaseModel):\n",
    "    apple = 'x'\n",
    "    banana = 'y'\n",
    "    \n",
    "class Spam(BaseModel):\n",
    "    foo: Foo\n",
    "    bars: list[Bar]\n",
    "\n",
    "m = Spam(foo={'count': 4}, \n",
    "         bars=[{'apple': 'x1'}, {'apple': 'x2'}])\n",
    "m"
   ]
  },
  {
   "cell_type": "code",
   "execution_count": 15,
   "id": "340c5e17",
   "metadata": {},
   "outputs": [
    {
     "data": {
      "text/plain": [
       "{'foo': {'count': 4, 'size': None},\n",
       " 'bars': [{'apple': 'x1', 'banana': 'y'}, {'apple': 'x2', 'banana': 'y'}]}"
      ]
     },
     "execution_count": 15,
     "metadata": {},
     "output_type": "execute_result"
    }
   ],
   "source": [
    "m.dict()"
   ]
  },
  {
   "cell_type": "markdown",
   "id": "bc44d80e",
   "metadata": {},
   "source": [
    "### ORM Mode (aka Arbitrary Class Instances)\n",
    "* Pydantic models can be created from arbitrary class instances to support models that map to ORM(Object Relational Mapping) objects.\n",
    "\n",
    "To Do this:\n",
    "1. The Config property `orm_mode` must be set to `True`.\n",
    "2. The special constructor `from_orm` must be used to createthe model instance.\n",
    "\n",
    "* In the original tutorial uses SQLAlchemy, but I use MongoDB.\n"
   ]
  },
  {
   "cell_type": "code",
   "execution_count": null,
   "id": "fb349a24",
   "metadata": {},
   "outputs": [],
   "source": []
  }
 ],
 "metadata": {
  "kernelspec": {
   "display_name": "Python 3 (ipykernel)",
   "language": "python",
   "name": "python3"
  },
  "language_info": {
   "codemirror_mode": {
    "name": "ipython",
    "version": 3
   },
   "file_extension": ".py",
   "mimetype": "text/x-python",
   "name": "python",
   "nbconvert_exporter": "python",
   "pygments_lexer": "ipython3",
   "version": "3.10.9"
  }
 },
 "nbformat": 4,
 "nbformat_minor": 5
}
