{
 "cells": [
  {
   "cell_type": "code",
   "execution_count": 1,
   "metadata": {},
   "outputs": [],
   "source": [
    "import json"
   ]
  },
  {
   "cell_type": "code",
   "execution_count": 2,
   "metadata": {},
   "outputs": [],
   "source": [
    "result = {\n",
    "  \"reply\": [\n",
    "    {\n",
    "      \"dict\": {\n",
    "        \"key1\": \"\",\n",
    "        \"key2\": \"\"\n",
    "      }\n",
    "    },\n",
    "    {\n",
    "      \"dict\": {\n",
    "        \"buyer\": [\n",
    "          \"buyer\",\n",
    "          [\n",
    "            [1, 2],\n",
    "            [3, 4],\n",
    "            [5, 6],\n",
    "            [2, 3]\n",
    "          ],\n",
    "          1.0\n",
    "        ],\n",
    "        \"buyer2\": [\n",
    "          \"buyer2\",\n",
    "          [\n",
    "            [1, 2],\n",
    "            [3, 4],\n",
    "            [5, 6],\n",
    "            [2, 3]\n",
    "          ],\n",
    "          1.0\n",
    "        ]\n",
    "      }\n",
    "    }\n",
    "  ]\n",
    "}"
   ]
  },
  {
   "cell_type": "code",
   "execution_count": 3,
   "metadata": {},
   "outputs": [
    {
     "name": "stdout",
     "output_type": "stream",
     "text": [
      "{\"reply\": [{\"dict\": {\"key1\": \"\", \"key2\": \"\"}}, {\"dict\": {\"buyer\": [\"buyer\", [[1, 2], [3, 4], [5, 6], [2, 3]], 1.0], \"buyer2\": [\"buyer2\", [[1, 2], [3, 4], [5, 6], [2, 3]], 1.0]}}]}\n"
     ]
    }
   ],
   "source": [
    "json_string = json.dumps(result)\n",
    "print(json_string)"
   ]
  },
  {
   "cell_type": "code",
   "execution_count": 5,
   "metadata": {},
   "outputs": [
    {
     "name": "stdout",
     "output_type": "stream",
     "text": [
      "('{\"reply\": [{\"dict\": {\"key1\": \"\", \"key2\": \"\"}}, {\"dict\": {\"buyer\": [\"buyer\", '\n",
      " '[[1, 2], [3, 4], [5, 6], [2, 3]], 1.0], \"buyer2\": [\"buyer2\", [[1, 2], [3, '\n",
      " '4], [5, 6], [2, 3]], 1.0]}}]}')\n"
     ]
    }
   ],
   "source": [
    "import pprint\n",
    "\n",
    "pprint.pprint(json_string)"
   ]
  },
  {
   "cell_type": "code",
   "execution_count": 6,
   "metadata": {},
   "outputs": [
    {
     "data": {
      "text/plain": [
       "'{\"reply\": [{\"dict\": {\"key1\": \"\", \"key2\": \"\"}}, {\"dict\": {\"buyer\": [\"buyer\", [[1, 2], [3, 4], [5, 6], [2, 3]], 1.0], \"buyer2\": [\"buyer2\", [[1, 2], [3, 4], [5, 6], [2, 3]], 1.0]}}]}'"
      ]
     },
     "execution_count": 6,
     "metadata": {},
     "output_type": "execute_result"
    }
   ],
   "source": [
    "json_string"
   ]
  },
  {
   "cell_type": "code",
   "execution_count": 8,
   "metadata": {},
   "outputs": [],
   "source": [
    "with open('output.json', 'w') as f:\n",
    "    json.dump(result, f, indent=2)"
   ]
  },
  {
   "cell_type": "code",
   "execution_count": null,
   "metadata": {},
   "outputs": [],
   "source": []
  }
 ],
 "metadata": {
  "kernelspec": {
   "display_name": "base",
   "language": "python",
   "name": "python3"
  },
  "language_info": {
   "codemirror_mode": {
    "name": "ipython",
    "version": 3
   },
   "file_extension": ".py",
   "mimetype": "text/x-python",
   "name": "python",
   "nbconvert_exporter": "python",
   "pygments_lexer": "ipython3",
   "version": "3.10.9"
  },
  "orig_nbformat": 4
 },
 "nbformat": 4,
 "nbformat_minor": 2
}
